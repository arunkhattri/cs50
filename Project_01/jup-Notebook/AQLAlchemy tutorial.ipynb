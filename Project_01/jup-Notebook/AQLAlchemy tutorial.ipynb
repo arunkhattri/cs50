{
 "cells": [
  {
   "cell_type": "code",
   "execution_count": 1,
   "metadata": {},
   "outputs": [
    {
     "data": {
      "text/plain": [
       "'1.3.1'"
      ]
     },
     "execution_count": 1,
     "metadata": {},
     "output_type": "execute_result"
    }
   ],
   "source": [
    "# Version Check\n",
    "import sqlalchemy\n",
    "sqlalchemy.__version__"
   ]
  },
  {
   "cell_type": "code",
   "execution_count": 2,
   "metadata": {},
   "outputs": [],
   "source": [
    "# Connecting to DataBase\n",
    "from sqlalchemy import create_engine\n",
    "engine = create_engine('postgresql://postgres:8@ttle#1eld5@localhost:5432/akkdb', echo=True)"
   ]
  },
  {
   "cell_type": "code",
   "execution_count": 3,
   "metadata": {},
   "outputs": [],
   "source": [
    "# Declare a mapping\n",
    "from sqlalchemy.ext.declarative import declarative_base\n",
    "Base = declarative_base()"
   ]
  },
  {
   "cell_type": "code",
   "execution_count": 4,
   "metadata": {},
   "outputs": [],
   "source": [
    "from sqlalchemy import Column, Integer, String"
   ]
  },
  {
   "cell_type": "code",
   "execution_count": 5,
   "metadata": {},
   "outputs": [],
   "source": [
    "class User(Base):\n",
    "    __tablename__ = 'users'\n",
    "    \n",
    "    id = Column(Integer, primary_key=True)\n",
    "    name = Column(String)\n",
    "    fullname = Column(String)\n",
    "    nickname = Column(String)\n",
    "    \n",
    "    def __init__(self, name, fullname, nickname):\n",
    "        self.name = name\n",
    "        self.fullname = fullname\n",
    "        self.nickname = nickname\n",
    "    \n",
    "    \n",
    "    def __repr__(self):\n",
    "        return f\"<User(name={self.name}, fullname={self.fullname}, nickname={self.nickname})>\"\n",
    "    "
   ]
  },
  {
   "cell_type": "code",
   "execution_count": 6,
   "metadata": {},
   "outputs": [
    {
     "data": {
      "text/plain": [
       "Table('users', MetaData(bind=None), Column('id', Integer(), table=<users>, primary_key=True, nullable=False), Column('name', String(), table=<users>), Column('fullname', String(), table=<users>), Column('nickname', String(), table=<users>), schema=None)"
      ]
     },
     "execution_count": 6,
     "metadata": {},
     "output_type": "execute_result"
    }
   ],
   "source": [
    "# verify the table metadata\n",
    "User.__table__"
   ]
  },
  {
   "cell_type": "code",
   "execution_count": 7,
   "metadata": {},
   "outputs": [
    {
     "name": "stdout",
     "output_type": "stream",
     "text": [
      "2019-04-10 01:04:13,157 INFO sqlalchemy.engine.base.Engine select version()\n",
      "2019-04-10 01:04:13,158 INFO sqlalchemy.engine.base.Engine {}\n",
      "2019-04-10 01:04:13,163 INFO sqlalchemy.engine.base.Engine select current_schema()\n",
      "2019-04-10 01:04:13,164 INFO sqlalchemy.engine.base.Engine {}\n",
      "2019-04-10 01:04:13,169 INFO sqlalchemy.engine.base.Engine SELECT CAST('test plain returns' AS VARCHAR(60)) AS anon_1\n",
      "2019-04-10 01:04:13,170 INFO sqlalchemy.engine.base.Engine {}\n",
      "2019-04-10 01:04:13,173 INFO sqlalchemy.engine.base.Engine SELECT CAST('test unicode returns' AS VARCHAR(60)) AS anon_1\n",
      "2019-04-10 01:04:13,174 INFO sqlalchemy.engine.base.Engine {}\n",
      "2019-04-10 01:04:13,176 INFO sqlalchemy.engine.base.Engine show standard_conforming_strings\n",
      "2019-04-10 01:04:13,178 INFO sqlalchemy.engine.base.Engine {}\n",
      "2019-04-10 01:04:13,182 INFO sqlalchemy.engine.base.Engine select relname from pg_class c join pg_namespace n on n.oid=c.relnamespace where pg_catalog.pg_table_is_visible(c.oid) and relname=%(name)s\n",
      "2019-04-10 01:04:13,183 INFO sqlalchemy.engine.base.Engine {'name': 'users'}\n",
      "2019-04-10 01:04:13,196 INFO sqlalchemy.engine.base.Engine \n",
      "CREATE TABLE users (\n",
      "\tid SERIAL NOT NULL, \n",
      "\tname VARCHAR, \n",
      "\tfullname VARCHAR, \n",
      "\tnickname VARCHAR, \n",
      "\tPRIMARY KEY (id)\n",
      ")\n",
      "\n",
      "\n",
      "2019-04-10 01:04:13,198 INFO sqlalchemy.engine.base.Engine {}\n",
      "2019-04-10 01:04:13,519 INFO sqlalchemy.engine.base.Engine COMMIT\n"
     ]
    }
   ],
   "source": [
    "# create a schema\n",
    "Base.metadata.create_all(engine)"
   ]
  },
  {
   "cell_type": "code",
   "execution_count": 8,
   "metadata": {},
   "outputs": [],
   "source": [
    "# Create an instance of the mapped Class\n",
    "inoo_user = User(name='Aryaansh', fullname='Aaryaansh Arora Khattri', nickname='inoo')"
   ]
  },
  {
   "cell_type": "code",
   "execution_count": 9,
   "metadata": {},
   "outputs": [
    {
     "data": {
      "text/plain": [
       "'Aryaansh'"
      ]
     },
     "execution_count": 9,
     "metadata": {},
     "output_type": "execute_result"
    }
   ],
   "source": [
    "inoo_user.name"
   ]
  },
  {
   "cell_type": "code",
   "execution_count": 10,
   "metadata": {},
   "outputs": [
    {
     "data": {
      "text/plain": [
       "'inoo'"
      ]
     },
     "execution_count": 10,
     "metadata": {},
     "output_type": "execute_result"
    }
   ],
   "source": [
    "inoo_user.nickname"
   ]
  },
  {
   "cell_type": "code",
   "execution_count": 11,
   "metadata": {},
   "outputs": [
    {
     "data": {
      "text/plain": [
       "'None'"
      ]
     },
     "execution_count": 11,
     "metadata": {},
     "output_type": "execute_result"
    }
   ],
   "source": [
    "str(inoo_user.id)"
   ]
  },
  {
   "cell_type": "markdown",
   "metadata": {},
   "source": [
    "## Creating a Session"
   ]
  },
  {
   "cell_type": "code",
   "execution_count": 12,
   "metadata": {},
   "outputs": [],
   "source": [
    "from sqlalchemy.orm import sessionmaker\n",
    "Session = sessionmaker(bind=engine)\n",
    "session = Session()"
   ]
  },
  {
   "cell_type": "markdown",
   "metadata": {},
   "source": [
    "## Adding and Updating Objects"
   ]
  },
  {
   "cell_type": "code",
   "execution_count": 13,
   "metadata": {},
   "outputs": [],
   "source": [
    "# to persist our User object, we add() it to our Session:\n",
    "inoo_user = User(name='Aryaansh', fullname='Aaryaansh Arora Khattri', nickname='inoo')\n",
    "session.add(inoo_user)"
   ]
  },
  {
   "cell_type": "markdown",
   "metadata": {},
   "source": [
    "at this point we say that the instance is pending; no SQL has yet been issued and the object is not yet represented by a row in the database. The Session will issue the SQL to persist <font color='blue'>inoo</font>\n",
    " as soon as is needed, using a process known as a **flush**. If we query the  database for <font color='blue'>inoo</font>, all pending information will first be flushed, and the query is issued immediately thereafter."
   ]
  },
  {
   "cell_type": "code",
   "execution_count": 14,
   "metadata": {},
   "outputs": [
    {
     "name": "stdout",
     "output_type": "stream",
     "text": [
      "2019-04-10 01:04:14,313 INFO sqlalchemy.engine.base.Engine BEGIN (implicit)\n",
      "2019-04-10 01:04:14,315 INFO sqlalchemy.engine.base.Engine INSERT INTO users (name, fullname, nickname) VALUES (%(name)s, %(fullname)s, %(nickname)s) RETURNING users.id\n",
      "2019-04-10 01:04:14,316 INFO sqlalchemy.engine.base.Engine {'name': 'Aryaansh', 'fullname': 'Aaryaansh Arora Khattri', 'nickname': 'inoo'}\n",
      "2019-04-10 01:04:14,320 INFO sqlalchemy.engine.base.Engine SELECT users.id AS users_id, users.name AS users_name, users.fullname AS users_fullname, users.nickname AS users_nickname \n",
      "FROM users \n",
      "WHERE users.name = %(name_1)s \n",
      " LIMIT %(param_1)s\n",
      "2019-04-10 01:04:14,322 INFO sqlalchemy.engine.base.Engine {'name_1': 'Aryaansh', 'param_1': 1}\n"
     ]
    },
    {
     "data": {
      "text/plain": [
       "<User(name=Aryaansh, fullname=Aaryaansh Arora Khattri, nickname=inoo)>"
      ]
     },
     "execution_count": 14,
     "metadata": {},
     "output_type": "execute_result"
    }
   ],
   "source": [
    "# create a new Query object which loads instances of User.\n",
    "our_user = session.query(User).filter_by(name='Aryaansh').first()\n",
    "our_user"
   ]
  },
  {
   "cell_type": "code",
   "execution_count": 15,
   "metadata": {},
   "outputs": [
    {
     "data": {
      "text/plain": [
       "True"
      ]
     },
     "execution_count": 15,
     "metadata": {},
     "output_type": "execute_result"
    }
   ],
   "source": [
    "inoo_user is our_user"
   ]
  },
  {
   "cell_type": "code",
   "execution_count": 16,
   "metadata": {},
   "outputs": [],
   "source": [
    "# Add multiple user at once by add_all():\n",
    "session.add_all([\n",
    "    User(name='Maira', fullname='Maira Arora Khattri', nickname='mia'),\n",
    "    User(name='Aarush', fullname='Aarush Arora Khattri', nickname='booboo')\n",
    "])"
   ]
  },
  {
   "cell_type": "code",
   "execution_count": 17,
   "metadata": {},
   "outputs": [],
   "source": [
    "# Also , correct the spelling in inoo's name:\n",
    "inoo_user.name = 'Aaryaansh'"
   ]
  },
  {
   "cell_type": "code",
   "execution_count": 18,
   "metadata": {},
   "outputs": [
    {
     "data": {
      "text/plain": [
       "IdentitySet([<User(name=Aaryaansh, fullname=Aaryaansh Arora Khattri, nickname=inoo)>])"
      ]
     },
     "execution_count": 18,
     "metadata": {},
     "output_type": "execute_result"
    }
   ],
   "source": [
    "# The session is paying attention. It knows, for example, that inoo has been modified:\n",
    "session.dirty"
   ]
  },
  {
   "cell_type": "code",
   "execution_count": 19,
   "metadata": {},
   "outputs": [
    {
     "data": {
      "text/plain": [
       "IdentitySet([<User(name=Maira, fullname=Maira Arora Khattri, nickname=mia)>, <User(name=Aarush, fullname=Aarush Arora Khattri, nickname=booboo)>])"
      ]
     },
     "execution_count": 19,
     "metadata": {},
     "output_type": "execute_result"
    }
   ],
   "source": [
    "# and that 2 new User objects are pending\n",
    "session.new"
   ]
  },
  {
   "cell_type": "code",
   "execution_count": 20,
   "metadata": {},
   "outputs": [
    {
     "name": "stdout",
     "output_type": "stream",
     "text": [
      "2019-04-10 01:04:15,547 INFO sqlalchemy.engine.base.Engine UPDATE users SET name=%(name)s WHERE users.id = %(users_id)s\n",
      "2019-04-10 01:04:15,549 INFO sqlalchemy.engine.base.Engine {'name': 'Aaryaansh', 'users_id': 1}\n",
      "2019-04-10 01:04:15,552 INFO sqlalchemy.engine.base.Engine INSERT INTO users (name, fullname, nickname) VALUES (%(name)s, %(fullname)s, %(nickname)s) RETURNING users.id\n",
      "2019-04-10 01:04:15,554 INFO sqlalchemy.engine.base.Engine {'name': 'Maira', 'fullname': 'Maira Arora Khattri', 'nickname': 'mia'}\n",
      "2019-04-10 01:04:15,557 INFO sqlalchemy.engine.base.Engine INSERT INTO users (name, fullname, nickname) VALUES (%(name)s, %(fullname)s, %(nickname)s) RETURNING users.id\n",
      "2019-04-10 01:04:15,559 INFO sqlalchemy.engine.base.Engine {'name': 'Aarush', 'fullname': 'Aarush Arora Khattri', 'nickname': 'booboo'}\n",
      "2019-04-10 01:04:15,562 INFO sqlalchemy.engine.base.Engine SELECT users.id AS users_id, users.name AS users_name, users.fullname AS users_fullname, users.nickname AS users_nickname \n",
      "FROM users \n",
      "WHERE users.id = %(id_1)s \n",
      " LIMIT %(param_1)s\n",
      "2019-04-10 01:04:15,564 INFO sqlalchemy.engine.base.Engine {'id_1': 1, 'param_1': 1}\n"
     ]
    },
    {
     "data": {
      "text/plain": [
       "<User(name=Aaryaansh, fullname=Aaryaansh Arora Khattri, nickname=inoo)>"
      ]
     },
     "execution_count": 20,
     "metadata": {},
     "output_type": "execute_result"
    }
   ],
   "source": [
    "session.query(User).filter_by(id=1).first()"
   ]
  },
  {
   "cell_type": "code",
   "execution_count": 21,
   "metadata": {},
   "outputs": [
    {
     "name": "stdout",
     "output_type": "stream",
     "text": [
      "2019-04-10 01:04:15,753 INFO sqlalchemy.engine.base.Engine COMMIT\n"
     ]
    }
   ],
   "source": [
    "# issue all remaining changes to the database and commit the transaction\n",
    "session.commit()"
   ]
  },
  {
   "cell_type": "code",
   "execution_count": 22,
   "metadata": {},
   "outputs": [
    {
     "name": "stdout",
     "output_type": "stream",
     "text": [
      "2019-04-10 01:04:15,887 INFO sqlalchemy.engine.base.Engine BEGIN (implicit)\n",
      "2019-04-10 01:04:15,890 INFO sqlalchemy.engine.base.Engine SELECT users.id AS users_id, users.name AS users_name, users.fullname AS users_fullname, users.nickname AS users_nickname \n",
      "FROM users \n",
      "WHERE users.id = %(param_1)s\n",
      "2019-04-10 01:04:15,891 INFO sqlalchemy.engine.base.Engine {'param_1': 1}\n"
     ]
    },
    {
     "data": {
      "text/plain": [
       "1"
      ]
     },
     "execution_count": 22,
     "metadata": {},
     "output_type": "execute_result"
    }
   ],
   "source": [
    "inoo_user.id"
   ]
  },
  {
   "cell_type": "markdown",
   "metadata": {},
   "source": [
    "## Building a Relationship"
   ]
  },
  {
   "cell_type": "code",
   "execution_count": 23,
   "metadata": {},
   "outputs": [],
   "source": [
    "from sqlalchemy import ForeignKey\n",
    "from sqlalchemy.orm import relationship"
   ]
  },
  {
   "cell_type": "code",
   "execution_count": 24,
   "metadata": {},
   "outputs": [],
   "source": [
    "class Address(Base):\n",
    "    __tablename__ = 'addresses'\n",
    "    id = Column(Integer, primary_key=True)\n",
    "    email_address = Column(String, nullable=False)\n",
    "    user_id = Column(Integer, ForeignKey('users.id'))\n",
    "    \n",
    "    user = relationship(\"User\", back_populates=\"addresses\")\n",
    "    \n",
    "    def __init__(self, email_address):\n",
    "        self.email_address = email_address\n",
    "\n",
    "    \n",
    "    def __repr__(self):\n",
    "        return f\"<Address(email_address={self.email_address})\""
   ]
  },
  {
   "cell_type": "code",
   "execution_count": 25,
   "metadata": {},
   "outputs": [],
   "source": [
    "User.addresses = relationship(\n",
    "\"Address\", order_by=Address.id, back_populates=\"user\")"
   ]
  },
  {
   "cell_type": "markdown",
   "metadata": {},
   "source": [
    "The above class introduces the `ForeignKey` construct, which is a directive applied to `Column` that indicates that values in this column should be constrained to be values present in the named remote column. This is a core feature of relational databases, and is the “glue” that transforms an otherwise unconnected collection of tables to have rich overlapping relationships. The `ForeignKey` above expresses that values in the `addresses.user_id` column should be constrained to those values in the `users.id` column, i.e. its primary key.\n",
    "\n",
    "A second directive, known as `relationship` tells the ORM that the `Address` class itself should be linked to the `User` class, using the attribute `Address.user. relationship()` uses the foreign key relationships between the two tables to determine the nature of this linkage, determining that `Address.user` will be <font color=blue>**many to one**</font>. An additional `relationship()` directive is placed on the User mapped class under the attribute `User.addresses`. In both `relationship()` directives, the parameter `relationship.back_populates` is assigned to refer to the complementary attribute names; by doing so, each `relationship()` can make intelligent decision about the same relationship as expressed in reverse; on one side, `Address.user` refers to a `User` instance, and on the other side, `User.addresses` refers to a list of Address instances."
   ]
  },
  {
   "cell_type": "code",
   "execution_count": 26,
   "metadata": {},
   "outputs": [
    {
     "name": "stdout",
     "output_type": "stream",
     "text": [
      "2019-04-10 01:04:32,063 INFO sqlalchemy.engine.base.Engine select relname from pg_class c join pg_namespace n on n.oid=c.relnamespace where pg_catalog.pg_table_is_visible(c.oid) and relname=%(name)s\n",
      "2019-04-10 01:04:32,064 INFO sqlalchemy.engine.base.Engine {'name': 'users'}\n",
      "2019-04-10 01:04:32,068 INFO sqlalchemy.engine.base.Engine select relname from pg_class c join pg_namespace n on n.oid=c.relnamespace where pg_catalog.pg_table_is_visible(c.oid) and relname=%(name)s\n",
      "2019-04-10 01:04:32,070 INFO sqlalchemy.engine.base.Engine {'name': 'addresses'}\n",
      "2019-04-10 01:04:32,073 INFO sqlalchemy.engine.base.Engine \n",
      "CREATE TABLE addresses (\n",
      "\tid SERIAL NOT NULL, \n",
      "\temail_address VARCHAR NOT NULL, \n",
      "\tuser_id INTEGER, \n",
      "\tPRIMARY KEY (id), \n",
      "\tFOREIGN KEY(user_id) REFERENCES users (id)\n",
      ")\n",
      "\n",
      "\n",
      "2019-04-10 01:04:32,075 INFO sqlalchemy.engine.base.Engine {}\n",
      "2019-04-10 01:04:32,432 INFO sqlalchemy.engine.base.Engine COMMIT\n"
     ]
    }
   ],
   "source": [
    "# create the addresses table in the database\n",
    "Base.metadata.create_all(engine)"
   ]
  },
  {
   "cell_type": "code",
   "execution_count": 27,
   "metadata": {},
   "outputs": [],
   "source": [
    "minoo = User(name='Minoo', fullname='Minoo Arora', nickname='minoo')"
   ]
  },
  {
   "cell_type": "code",
   "execution_count": 28,
   "metadata": {},
   "outputs": [
    {
     "data": {
      "text/plain": [
       "[]"
      ]
     },
     "execution_count": 28,
     "metadata": {},
     "output_type": "execute_result"
    }
   ],
   "source": [
    "minoo.addresses"
   ]
  },
  {
   "cell_type": "code",
   "execution_count": 29,
   "metadata": {},
   "outputs": [],
   "source": [
    "# a blank addresses collection is present\n",
    "minoo.addresses = [\n",
    "    Address(email_address='minooarora08@google.com'),\n",
    "    Address(email_address='minoo_arora@yahoo.com')\n",
    "]"
   ]
  },
  {
   "cell_type": "code",
   "execution_count": 30,
   "metadata": {},
   "outputs": [
    {
     "data": {
      "text/plain": [
       "<Address(email_address=minoo_arora@yahoo.com)"
      ]
     },
     "execution_count": 30,
     "metadata": {},
     "output_type": "execute_result"
    }
   ],
   "source": [
    "minoo.addresses[1]"
   ]
  },
  {
   "cell_type": "code",
   "execution_count": 31,
   "metadata": {},
   "outputs": [
    {
     "data": {
      "text/plain": [
       "<User(name=Minoo, fullname=Minoo Arora, nickname=minoo)>"
      ]
     },
     "execution_count": 31,
     "metadata": {},
     "output_type": "execute_result"
    }
   ],
   "source": [
    "minoo.addresses[1].user"
   ]
  },
  {
   "cell_type": "code",
   "execution_count": 32,
   "metadata": {},
   "outputs": [
    {
     "name": "stdout",
     "output_type": "stream",
     "text": [
      "2019-04-10 01:06:52,957 INFO sqlalchemy.engine.base.Engine INSERT INTO users (name, fullname, nickname) VALUES (%(name)s, %(fullname)s, %(nickname)s) RETURNING users.id\n",
      "2019-04-10 01:06:52,958 INFO sqlalchemy.engine.base.Engine {'name': 'Minoo', 'fullname': 'Minoo Arora', 'nickname': 'minoo'}\n",
      "2019-04-10 01:06:52,998 INFO sqlalchemy.engine.base.Engine INSERT INTO addresses (email_address, user_id) VALUES (%(email_address)s, %(user_id)s) RETURNING addresses.id\n",
      "2019-04-10 01:06:53,000 INFO sqlalchemy.engine.base.Engine {'email_address': 'minooarora08@google.com', 'user_id': 4}\n",
      "2019-04-10 01:06:53,003 INFO sqlalchemy.engine.base.Engine INSERT INTO addresses (email_address, user_id) VALUES (%(email_address)s, %(user_id)s) RETURNING addresses.id\n",
      "2019-04-10 01:06:53,004 INFO sqlalchemy.engine.base.Engine {'email_address': 'minoo_arora@yahoo.com', 'user_id': 4}\n",
      "2019-04-10 01:06:53,006 INFO sqlalchemy.engine.base.Engine COMMIT\n"
     ]
    }
   ],
   "source": [
    "session.add(minoo)\n",
    "session.commit()"
   ]
  },
  {
   "cell_type": "code",
   "execution_count": 33,
   "metadata": {},
   "outputs": [
    {
     "name": "stdout",
     "output_type": "stream",
     "text": [
      "2019-04-10 01:07:49,636 INFO sqlalchemy.engine.base.Engine BEGIN (implicit)\n",
      "2019-04-10 01:07:49,638 INFO sqlalchemy.engine.base.Engine SELECT users.id AS users_id, users.name AS users_name, users.fullname AS users_fullname, users.nickname AS users_nickname \n",
      "FROM users \n",
      "WHERE users.name = %(name_1)s\n",
      "2019-04-10 01:07:49,640 INFO sqlalchemy.engine.base.Engine {'name_1': 'Minoo'}\n"
     ]
    },
    {
     "data": {
      "text/plain": [
       "<User(name=Minoo, fullname=Minoo Arora, nickname=minoo)>"
      ]
     },
     "execution_count": 33,
     "metadata": {},
     "output_type": "execute_result"
    }
   ],
   "source": [
    "minoo = session.query(User).filter_by(name='Minoo').one()\n",
    "minoo"
   ]
  },
  {
   "cell_type": "code",
   "execution_count": 34,
   "metadata": {},
   "outputs": [
    {
     "name": "stdout",
     "output_type": "stream",
     "text": [
      "2019-04-10 01:08:06,274 INFO sqlalchemy.engine.base.Engine SELECT addresses.id AS addresses_id, addresses.email_address AS addresses_email_address, addresses.user_id AS addresses_user_id \n",
      "FROM addresses \n",
      "WHERE %(param_1)s = addresses.user_id ORDER BY addresses.id\n",
      "2019-04-10 01:08:06,277 INFO sqlalchemy.engine.base.Engine {'param_1': 4}\n"
     ]
    },
    {
     "data": {
      "text/plain": [
       "[<Address(email_address=minooarora08@google.com),\n",
       " <Address(email_address=minoo_arora@yahoo.com)]"
      ]
     },
     "execution_count": 34,
     "metadata": {},
     "output_type": "execute_result"
    }
   ],
   "source": [
    "minoo.addresses"
   ]
  },
  {
   "cell_type": "code",
   "execution_count": null,
   "metadata": {},
   "outputs": [],
   "source": []
  }
 ],
 "metadata": {
  "kernelspec": {
   "display_name": "Python [conda env:pyenv36]",
   "language": "python",
   "name": "conda-env-pyenv36-py"
  },
  "language_info": {
   "codemirror_mode": {
    "name": "ipython",
    "version": 3
   },
   "file_extension": ".py",
   "mimetype": "text/x-python",
   "name": "python",
   "nbconvert_exporter": "python",
   "pygments_lexer": "ipython3",
   "version": "3.7.2"
  }
 },
 "nbformat": 4,
 "nbformat_minor": 2
}
