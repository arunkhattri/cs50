{
 "cells": [
  {
   "cell_type": "code",
   "execution_count": 1,
   "metadata": {},
   "outputs": [],
   "source": [
    "from sqlalchemy import Table, Column, Integer, String, ForeignKey\n",
    "from sqlalchemy.orm import relationship\n",
    "from sqlalchemy.ext.declarative import declarative_base\n",
    "from sqlalchemy import create_engine\n",
    "from sqlalchemy.orm import sessionmaker\n",
    "from sqlalchemy.exc import IntegrityError\n",
    "import csv\n",
    "\n",
    "\n",
    "engine = create_engine('postgresql://postgres:8@ttle#1eld5@localhost:5432/akkdb')\n",
    "\n",
    "Base = declarative_base()\n",
    "\n",
    "Session = sessionmaker(bind=engine)\n",
    "session = Session()"
   ]
  },
  {
   "cell_type": "markdown",
   "metadata": {},
   "source": [
    "## Table Schema"
   ]
  },
  {
   "cell_type": "code",
   "execution_count": 2,
   "metadata": {},
   "outputs": [],
   "source": [
    "class PubYear(Base):\n",
    "    __tablename__ = 'pub_year'\n",
    "    id = Column(Integer, primary_key=True)\n",
    "    year = Column(Integer, unique=True)\n",
    "    \n",
    "    pub_years = relationship(\"BookTable\", backref='pub_year')\n",
    "    \n",
    "    def __init__(self, year):\n",
    "        self.year = year\n",
    "    \n",
    "\n",
    "class Author(Base):\n",
    "    __tablename__ = 'author'\n",
    "    id = Column(Integer, primary_key=True)\n",
    "    name = Column(String, unique=True)\n",
    "    \n",
    "    authors = relationship(\"BookTable\", backref='author')\n",
    "    \n",
    "    def __init__(self, name):\n",
    "        self.name = name\n",
    "    \n",
    "class Title(Base):\n",
    "    __tablename__ = 'title'\n",
    "    id = Column(Integer, primary_key=True)\n",
    "    isbn = Column(String(10), unique=True)\n",
    "    name = Column(String)\n",
    "    \n",
    "    books = relationship(\"BookTable\", backref='title')\n",
    "    \n",
    "    def __init__(self, isbn, name):\n",
    "        self.isbn = isbn\n",
    "        self.name = name\n",
    "    \n",
    "    \n",
    "\n",
    "class BookTable(Base):\n",
    "    __tablename__ = 'book_table'\n",
    "    id = Column(Integer, primary_key=True)\n",
    "    book_id = Column(String(10), ForeignKey('title.isbn'))\n",
    "    author_id = Column(Integer, ForeignKey('author.id'))\n",
    "    pub_year_id = Column(Integer, ForeignKey('pub_year.id'))\n",
    "    \n"
   ]
  },
  {
   "cell_type": "code",
   "execution_count": 10,
   "metadata": {},
   "outputs": [],
   "source": [
    "Base.metadata.create_all(engine)"
   ]
  },
  {
   "cell_type": "code",
   "execution_count": null,
   "metadata": {},
   "outputs": [],
   "source": [
    "from IPython.core.debugger import set_trace"
   ]
  },
  {
   "cell_type": "code",
   "execution_count": 11,
   "metadata": {},
   "outputs": [],
   "source": [
    "with open(\"../edx-flask-app/books.csv\") as csvfile:\n",
    "    reader = csv.reader(csvfile, delimiter=',')\n",
    "    next(reader, None)\n",
    "    for isbn, title, author, year in reader:\n",
    "        try:\n",
    "            temp_year = PubYear(int(year))\n",
    "            session.add(temp_year)\n",
    "            session.commit()\n",
    "        except IntegrityError:\n",
    "            session.rollback()\n",
    "            pass\n",
    "        \n",
    "        try:\n",
    "            temp_author = Author(author)\n",
    "            session.add(temp_author)\n",
    "            session.commit()\n",
    "        except IntegrityError:\n",
    "            session.rollback()\n",
    "            pass\n",
    "        \n",
    "        try:\n",
    "            temp_title = Title(isbn, title)\n",
    "            session.add(temp_title)\n",
    "            session.commit()\n",
    "        except IntegrityError:\n",
    "            session.rollback()\n",
    "            pass\n",
    "            \n",
    "    session.close()"
   ]
  },
  {
   "cell_type": "code",
   "execution_count": null,
   "metadata": {},
   "outputs": [],
   "source": [
    "#TODO: how to write book_table\n",
    "    "
   ]
  }
 ],
 "metadata": {
  "kernelspec": {
   "display_name": "Python [conda env:pyenv36]",
   "language": "python",
   "name": "conda-env-pyenv36-py"
  },
  "language_info": {
   "codemirror_mode": {
    "name": "ipython",
    "version": 3
   },
   "file_extension": ".py",
   "mimetype": "text/x-python",
   "name": "python",
   "nbconvert_exporter": "python",
   "pygments_lexer": "ipython3",
   "version": "3.7.2"
  }
 },
 "nbformat": 4,
 "nbformat_minor": 2
}
